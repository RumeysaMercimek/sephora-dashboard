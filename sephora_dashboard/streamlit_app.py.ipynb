{
 "cells": [
  {
   "cell_type": "code",
   "execution_count": 5,
   "id": "86725496-29cf-4ee8-8ad2-bfd6f53026a7",
   "metadata": {},
   "outputs": [
    {
     "data": {
      "text/plain": [
       "DeltaGenerator()"
      ]
     },
     "execution_count": 5,
     "metadata": {},
     "output_type": "execute_result"
    }
   ],
   "source": [
    "import streamlit as st\n",
    "import pandas as pd\n",
    "import seaborn as sns\n",
    "import matplotlib.pyplot as plt\n",
    "\n",
    "# Load data\n",
    "df = pd.read_csv(\"product_info.csv\")\n",
    "\n",
    "# Drop missing\n",
    "df = df.dropna(subset=[\"brand_name\", \"primary_category\", \"rating\", \"child_max_price\"])\n",
    "\n",
    "# Sidebar filters\n",
    "st.sidebar.title(\"Filters\")\n",
    "brands = st.sidebar.multiselect(\"Select Brands\", options=df[\"brand_name\"].unique(), default=df[\"brand_name\"].unique()[:5])\n",
    "categories = st.sidebar.multiselect(\"Select Categories\", options=df[\"primary_category\"].unique(), default=df[\"primary_category\"].unique()[:3])\n",
    "price_range = st.sidebar.slider(\"Price Range\", float(df[\"child_max_price\"].min()), float(df[\"child_max_price\"].max()), (10.0, 100.0))\n",
    "\n",
    "# Filter data\n",
    "filtered_df = df[\n",
    "    (df[\"brand_name\"].isin(brands)) &\n",
    "    (df[\"primary_category\"].isin(categories)) &\n",
    "    (df[\"child_max_price\"].between(price_range[0], price_range[1]))\n",
    "]\n",
    "\n",
    "# Metrics\n",
    "st.title(\"Sephora Product Explorer\")\n",
    "st.metric(\"Average Rating\", round(filtered_df[\"rating\"].mean(), 2))\n",
    "st.metric(\"Average Price\", f\"${round(filtered_df['child_max_price'].mean(), 2)}\")\n",
    "\n",
    "# Scatter plot\n",
    "st.subheader(\"Rating vs. Price\")\n",
    "fig1, ax1 = plt.subplots()\n",
    "sns.scatterplot(data=filtered_df, x=\"child_max_price\", y=\"rating\", ax=ax1, color=\"purple\")\n",
    "st.pyplot(fig1)\n",
    "\n",
    "# Rating histogram\n",
    "st.subheader(\"Rating Distribution\")\n",
    "fig2, ax2 = plt.subplots()\n",
    "sns.histplot(filtered_df[\"rating\"], bins=20, kde=True, ax=ax2, color=\"orange\")\n",
    "st.pyplot(fig2)\n",
    "\n",
    "# Show filtered data\n",
    "st.subheader(\"Filtered Products\")\n",
    "st.dataframe(filtered_df[[\"product_name\", \"brand_name\", \"rating\", \"child_max_price\"]].reset_index(drop=True))\n",
    "\n"
   ]
  },
  {
   "cell_type": "code",
   "execution_count": null,
   "id": "5d2eb2ad-a19b-4ef2-b448-c1f55c315a68",
   "metadata": {},
   "outputs": [],
   "source": []
  }
 ],
 "metadata": {
  "kernelspec": {
   "display_name": "Python [conda env:base] *",
   "language": "python",
   "name": "conda-base-py"
  },
  "language_info": {
   "codemirror_mode": {
    "name": "ipython",
    "version": 3
   },
   "file_extension": ".py",
   "mimetype": "text/x-python",
   "name": "python",
   "nbconvert_exporter": "python",
   "pygments_lexer": "ipython3",
   "version": "3.12.7"
  }
 },
 "nbformat": 4,
 "nbformat_minor": 5
}
